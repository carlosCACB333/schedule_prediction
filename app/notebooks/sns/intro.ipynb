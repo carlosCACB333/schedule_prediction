{
 "cells": [
  {
   "cell_type": "code",
   "execution_count": 1,
   "metadata": {},
   "outputs": [],
   "source": [
    "import sys\n",
    "sys.path.append('../')\n",
    "import pandas as pd\n",
    "import numpy as np\n",
    "from utils.connect import get_data\n",
    "from utils.tools import  CustomOneHotEncoder, CustomRobustScaler,CustomLabelEncoder,train_test_val_split\n",
    "import seaborn as sns\n",
    "import matplotlib.pyplot as plt\n",
    "\n",
    "sns.set(font_scale=.8)\n",
    "sns.set_style(\"ticks\")\n",
    "sns.set_palette(\"colorblind\")\n"
   ]
  },
  {
   "cell_type": "code",
   "execution_count": null,
   "metadata": {},
   "outputs": [],
   "source": [
    "sql = \"\"\"\n",
    "select \n",
    "\n",
    "clz.CargaLectiva,clz.Sede,clz.Escuela,clz.Curricula,\n",
    "clz.Curso,c.Nombre as NombreCurso,clz.Semestre,clz.Seccion,clz.Grupo,\n",
    "c.NumeroCreditos,c.Ciclo,c.TipoCurso,c.HorasTeoria,c.HorasPractica,c.HorasLaboratorio,t.sexo as Sexo,\n",
    "CONCAT(h.Dia,DATEPART(HOUR,h.HoraIni),'-',DATEPART(HOUR,h.HoraFin)) as Horario,\n",
    "h.Turno \n",
    "from dbo.CargaLectivaZet as clz \n",
    "inner join dbo.Curso as c on c.Curso=clz.Curso and c.Curricula=clz.Curricula and c.Escuela=clz.Escuela\n",
    "inner join dbo.Horario as h on clz.Horario=h.Horario\n",
    "inner join dbo.Trabajador as t on t.Trabajador=clz.Trabajador\n",
    "order by clz.Semestre desc ;\"\"\"\n",
    "df_all=get_data(sql)\n",
    "df_all['CargaLectiva']=df_all['CargaLectiva'].astype('str')\n",
    "df_all"
   ]
  }
 ],
 "metadata": {
  "kernelspec": {
   "display_name": "Python 3 (ipykernel)",
   "language": "python",
   "name": "python3"
  },
  "language_info": {
   "codemirror_mode": {
    "name": "ipython",
    "version": 3
   },
   "file_extension": ".py",
   "mimetype": "text/x-python",
   "name": "python",
   "nbconvert_exporter": "python",
   "pygments_lexer": "ipython3",
   "version": "3.11.5"
  },
  "orig_nbformat": 4
 },
 "nbformat": 4,
 "nbformat_minor": 2
}
